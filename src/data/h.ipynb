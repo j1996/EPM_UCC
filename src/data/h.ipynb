{
 "cells": [
  {
   "cell_type": "code",
   "execution_count": 1,
   "metadata": {},
   "outputs": [],
   "source": [
    "from astropy.coordinates import get_sun\n",
    "from astropy.time import Time, TimeDelta\n",
    "from poliastro.bodies import Earth, Sun\n",
    "from astropy import units as u\n",
    "from poliastro.twobody import Orbit\n",
    "\n",
    "import numpy as np\n",
    "import trimesh\n",
    "\n",
    "import numba\n",
    "import pandas as pd\n",
    "try:\n",
    "    from SatelitteSolarPowerSystemV4 import SatelitteSolarPowerSystem\n",
    "    from SatelitteActitud import SatelitteActitud\n",
    "    from OrbitasV4 import *\n",
    "except:\n",
    "    from src.data.SatelitteSolarPowerSystemV4 import SatelitteSolarPowerSystem\n",
    "    from src.data.SatelitteActitud import SatelitteActitud\n",
    "    from src.data.OrbitasV4 import *\n",
    "from tqdm import tqdm\n",
    "\n",
    "\n"
   ]
  },
  {
   "cell_type": "code",
   "execution_count": 2,
   "metadata": {},
   "outputs": [],
   "source": [
    "simulacion = random_generator()\n",
    "\n",
    "a = 7278 * u.km\n",
    "ecc = 0 * u.one\n",
    "inc = 90 * u.deg\n",
    "raan = 0* u.deg\n",
    "argp_ini = 0 * u.deg\n",
    "nu = 0 * u.deg\n",
    "time = Time(\"2020-01-01 12:00:00\", scale=\"utc\")\n",
    "i=0\n",
    "direccion = '12Unuv.stl'\n",
    "actitud=SatelitteActitud(eje_de_spin= [0,1,0],control=True) \n",
    "EPM = SatelitteSolarPowerSystem(direccion, actitud, Despegables_orientables=True)\n",
    "EPM.apply_transform(trimesh.transformations.rotation_matrix(np.pi/2,[0,0,1],[0,0,0]))"
   ]
  },
  {
   "cell_type": "code",
   "execution_count": 73,
   "metadata": {},
   "outputs": [],
   "source": [
    "EPM.Caras_Despegables\n",
    "\n",
    "sat = Orbit.from_classical(Earth, a, ecc, inc, raan, 270*u.deg, nu, time+TimeDelta(70*u.min))\n",
    "Sun_vector = SolarAngle_a_VNB(sat)"
   ]
  },
  {
   "cell_type": "code",
   "execution_count": 74,
   "metadata": {},
   "outputs": [
    {
     "output_type": "stream",
     "name": "stdout",
     "text": "plano0  [-0.98096483  0.          0.19418549]\nplano1  [-0.91749894  0.          0.39773823]\n"
    }
   ],
   "source": [
    "direcion_principal=EPM.mesh.facets_normal[EPM.Caras_Despegables[0]]\n",
    "            \n",
    "plano0=np.cross( Sun_vector, EPM.actitud.eje_de_spin)\n",
    "plano0=plano0/np.linalg.norm(plano0)\n",
    "print(\"plano0 \", plano0)\n",
    "plano1=np.cross( direcion_principal, EPM.actitud.eje_de_spin)\n",
    "            \n",
    "plano1=plano1/np.linalg.norm(plano1)\n",
    "print(\"plano1 \", plano1)\n",
    "angulo_giro=np.absolute(np.arccos(np.dot(plano0, plano1))/(np.linalg.norm(plano0)*np.linalg.norm(plano1)))\n",
    "prim=trimesh.transform_points(plano1.reshape(1,3), trimesh.transformations.rotation_matrix(-angulo_giro,actitud.eje_de_spin,[0,0,0]))\n",
    "         \n",
    "if np.isnan(angulo_giro):\n",
    "    angulo_giro=0.0      \n",
    "            \n",
    "\n",
    "            \n",
    "if angulo_giro==0:\n",
    "    pass\n",
    "else:\n",
    "    prim=trimesh.transform_points(plano1.reshape(1,3), trimesh.transformations.rotation_matrix(angulo_giro,actitud.eje_de_spin,[0,0,0]))\n",
    "    if not np.allclose(prim, plano0):\n",
    "        angulo_giro=-angulo_giro\n",
    "    EPM.mesh=EPM.mesh.apply_transform(trimesh.transformations.rotation_matrix(angulo_giro,actitud.eje_de_spin,[0,0,0]))\n",
    "                "
   ]
  },
  {
   "cell_type": "code",
   "execution_count": 75,
   "metadata": {},
   "outputs": [
    {
     "output_type": "stream",
     "name": "stdout",
     "text": "-0.21362330774755842\n"
    }
   ],
   "source": [
    "print(angulo_giro)"
   ]
  },
  {
   "cell_type": "code",
   "execution_count": 63,
   "metadata": {},
   "outputs": [
    {
     "output_type": "execute_result",
     "data": {
      "text/plain": "True"
     },
     "metadata": {},
     "execution_count": 63
    }
   ],
   "source": [
    "np.allclose(plano0, plano1)"
   ]
  },
  {
   "cell_type": "code",
   "execution_count": 55,
   "metadata": {},
   "outputs": [],
   "source": [
    "EPM.mesh=EPM.mesh.apply_transform(trimesh.transformations.rotation_matrix(-angulo_giro,actitud.eje_de_spin,[0,0,0]))"
   ]
  },
  {
   "cell_type": "code",
   "execution_count": 51,
   "metadata": {},
   "outputs": [
    {
     "output_type": "execute_result",
     "data": {
      "text/plain": "array([[-0.92273882,  0.        ,  0.38542582]])"
     },
     "metadata": {},
     "execution_count": 51
    }
   ],
   "source": [
    "trimesh.transform_points(plano1.reshape(1,3), trimesh.transformations.rotation_matrix(-angulo_giro,actitud.eje_de_spin,[0,0,0]))"
   ]
  },
  {
   "cell_type": "code",
   "execution_count": 58,
   "metadata": {},
   "outputs": [],
   "source": [
    "plano0= np.round(plano0, 5)"
   ]
  },
  {
   "cell_type": "code",
   "execution_count": 59,
   "metadata": {},
   "outputs": [
    {
     "output_type": "execute_result",
     "data": {
      "text/plain": "array([-0.98107,  0.     , -0.19366])"
     },
     "metadata": {},
     "execution_count": 59
    }
   ],
   "source": [
    "plano0"
   ]
  },
  {
   "cell_type": "code",
   "execution_count": null,
   "metadata": {},
   "outputs": [],
   "source": []
  }
 ],
 "metadata": {
  "language_info": {
   "codemirror_mode": {
    "name": "ipython",
    "version": 3
   },
   "file_extension": ".py",
   "mimetype": "text/x-python",
   "name": "python",
   "nbconvert_exporter": "python",
   "pygments_lexer": "ipython3",
   "version": "3.7.6-final"
  },
  "orig_nbformat": 2,
  "kernelspec": {
   "name": "python3",
   "display_name": "Python 3"
  }
 },
 "nbformat": 4,
 "nbformat_minor": 2
}